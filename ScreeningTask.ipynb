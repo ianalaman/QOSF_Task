{
 "cells": [
  {
   "cell_type": "markdown",
   "id": "32a7ddd0-2fe9-478a-a7ae-fdfd84908184",
   "metadata": {},
   "source": [
    "# Quantum State Preparation with Limited Connectivity and Basis Gates\n",
    "\n",
    "In this notebook, we will explore how to prepare a specific quantum state using a quantum circuit that is constrained by a particular hardware architecture and a limited set of basis gates. We will explain how this approach differs from previous solutions and provide detailed explanations alongside the code.\n",
    "\n",
    "## Introduction\n",
    "\n",
    "Quantum state preparation is a fundamental task in quantum computing. Preparing arbitrary quantum states efficiently is crucial for quantum algorithms. However, hardware limitations such as qubit connectivity and available gate sets can make this task challenging.\n",
    "\n",
    "In this example, we aim to prepare the given quantum state on a 5-qubit system as in the task\n",
    "\n",
    "The computational basis states correspond to the following binary representations (from least significant bit to most significant bit):\n",
    "\n",
    "|12⟩: 01100\n",
    "|17⟩: 10001\n",
    "|22⟩: 10110\n",
    "|27⟩: 11011\n",
    "Our goal is to construct a quantum circuit that prepares this state, using only the basis gates ['x', 'h', 'rz', 'cx'], and with the following qubit connectivity (architecture):\n",
    "\n",
    "Qubit 4 is connected to all other qubits (qubits 0, 1, 2, 3).\n",
    "Qubit 0 is connected to qubit 1.\n",
    "Qubit 2 is connected to qubit 3.\n",
    "Additionally, we aim to keep the circuit depth less than 50.\n",
    "\n",
    "## Implementation\n",
    "\n",
    "Let's proceed step by step to construct the quantum circuit.\n",
    "\n",
    "Imports\n",
    "First, we import the necessary modules from Qiskit and other libraries."
   ]
  },
  {
   "cell_type": "code",
   "execution_count": 5,
   "id": "2246d2b6-b1d6-41ea-a51a-cbcd4abf482c",
   "metadata": {},
   "outputs": [],
   "source": [
    "from qiskit import QuantumCircuit, transpile\n",
    "from qiskit.circuit.library import XGate, HGate, RZGate\n",
    "from qiskit.quantum_info import Statevector\n",
    "from qiskit.visualization import plot_histogram, plot_bloch_multivector\n",
    "import matplotlib.pyplot as plt\n",
    "import numpy as np\n"
   ]
  },
  {
   "cell_type": "markdown",
   "id": "fae37579-b58e-4eef-b143-1eda5b4258e1",
   "metadata": {},
   "source": [
    "## Defining the Target State\n",
    "We define the size of the quantum system and specify the computational basis states that will have non-zero amplitudes in our target state."
   ]
  },
  {
   "cell_type": "code",
   "execution_count": 6,
   "id": "2bf1b020-683d-4d68-8a2b-be9b1c705946",
   "metadata": {},
   "outputs": [
    {
     "name": "stdout",
     "output_type": "stream",
     "text": [
      "Target computational basis states:\n",
      "|10110⟩\n",
      "|10001⟩\n",
      "|11011⟩\n",
      "|01100⟩\n"
     ]
    }
   ],
   "source": [
    "# Define size and state values\n",
    "size = 5\n",
    "state_values = [22, 17, 27, 12]\n",
    "\n",
    "# Initialize state vector\n",
    "state_vector = [0] * 2**size\n",
    "print(\"Target computational basis states:\")\n",
    "for s in state_values:\n",
    "    print(f\"|{np.binary_repr(s, size)}⟩\")\n",
    "    state_vector[s] = 0.5  # Assign amplitude 0.5 to each target state\n",
    "state_vector = np.asarray(state_vector)"
   ]
  },
  {
   "cell_type": "markdown",
   "id": "ca18c7bf-521f-473a-a080-373600dbff57",
   "metadata": {},
   "source": [
    "## Initializing the Quantum Circuit\n",
    "We create a quantum circuit with 5 qubits."
   ]
  },
  {
   "cell_type": "code",
   "execution_count": 7,
   "id": "188aeddc-e770-454d-8d03-79cbd8933329",
   "metadata": {},
   "outputs": [],
   "source": [
    "# Initialize Quantum Circuit\n",
    "qc = QuantumCircuit(size)\n"
   ]
  },
  {
   "cell_type": "markdown",
   "id": "ecbf0e32-bb1c-4b4e-9258-5d5d92d0d58d",
   "metadata": {},
   "source": [
    "## Applying Gates Based on the Architecture\n",
    "Applying Hadamard Gates\n",
    "\n",
    "We apply Hadamard gates to specific qubits to create superposition states. According to our architecture, we can apply gates to qubits 0 and 4."
   ]
  },
  {
   "cell_type": "code",
   "execution_count": 9,
   "id": "9f5a1e15-ced7-40dc-b63e-9141b69f9556",
   "metadata": {},
   "outputs": [
    {
     "data": {
      "text/plain": [
       "<qiskit.circuit.instructionset.InstructionSet at 0x11cafa2c0>"
      ]
     },
     "execution_count": 9,
     "metadata": {},
     "output_type": "execute_result"
    }
   ],
   "source": [
    "# Apply Hadamard gates to specific qubits based on architecture\n",
    "qc.h(4)  # Apply H to qubit 4 as the central qubit\n",
    "qc.h(0)  # Apply H to qubit 0 for superposition\n"
   ]
  },
  {
   "cell_type": "markdown",
   "id": "73e82859-ca7c-4bd6-a0c1-bfd65601ef6d",
   "metadata": {},
   "source": [
    "## Applying Controlled-NOT Gates\n",
    "\n",
    "We use CNOT gates to entangle qubits according to the desired state configurations and respecting the connectivity constraints."
   ]
  },
  {
   "cell_type": "code",
   "execution_count": 10,
   "id": "5ffe9da5-3f24-4e39-9480-2674605fd284",
   "metadata": {},
   "outputs": [
    {
     "data": {
      "text/plain": [
       "<qiskit.circuit.instructionset.InstructionSet at 0x11cdb13c0>"
      ]
     },
     "execution_count": 10,
     "metadata": {},
     "output_type": "execute_result"
    }
   ],
   "source": [
    "# Apply controlled gates based on the given architecture\n",
    "# Using qubit 4 as a hub for connectivity\n",
    "qc.cx(4, 1)  # Control on qubit 4 to target qubit 1\n",
    "qc.cx(4, 3)  # Control on qubit 4 to target qubit 3\n",
    "qc.cx(4, 2)  # Control on qubit 4 to target qubit 2\n"
   ]
  },
  {
   "cell_type": "markdown",
   "id": "02f3b8c9-4d1f-4ce0-905a-e6be5f008d93",
   "metadata": {},
   "source": [
    "## Applying Phase Adjustments with RZ Gates\n",
    "\n",
    "To adjust the amplitudes and phases of the superposition, we apply RZ rotations to certain qubits. These rotations help us achieve the correct interference patterns needed for the target state."
   ]
  },
  {
   "cell_type": "code",
   "execution_count": 11,
   "id": "e89e0683-ac02-41cc-87d5-5a8836f1826c",
   "metadata": {},
   "outputs": [
    {
     "data": {
      "text/plain": [
       "<qiskit.circuit.instructionset.InstructionSet at 0x1068a7250>"
      ]
     },
     "execution_count": 11,
     "metadata": {},
     "output_type": "execute_result"
    }
   ],
   "source": [
    "# Apply phase adjustments to achieve the required amplitudes\n",
    "qc.rz(np.pi / 4, 2)  # RZ gate for phase rotation on qubit 2\n",
    "qc.rz(np.pi / 8, 1)  # RZ gate for phase rotation on qubit 1\n"
   ]
  },
  {
   "cell_type": "markdown",
   "id": "f6039259-85f8-4ea9-9e2e-31e032831e3f",
   "metadata": {},
   "source": [
    "## Additional Entanglement\n",
    "\n",
    "We add an additional CNOT gate between qubit 1 and qubit 0, utilizing the connectivity between these qubits. This step helps in creating the necessary entanglement to reach the target state."
   ]
  },
  {
   "cell_type": "code",
   "execution_count": 12,
   "id": "c73f3214-a906-4ee3-b57f-5698a60b63c0",
   "metadata": {},
   "outputs": [
    {
     "data": {
      "text/plain": [
       "<qiskit.circuit.instructionset.InstructionSet at 0x11cdb1210>"
      ]
     },
     "execution_count": 12,
     "metadata": {},
     "output_type": "execute_result"
    }
   ],
   "source": [
    "# Adding custom gate combinations to achieve required amplitudes\n",
    "qc.cx(1, 0)  # Apply CX between qubit 1 and qubit 0\n"
   ]
  },
  {
   "cell_type": "markdown",
   "id": "35b5d462-9aa4-4803-9d6f-7207981d869a",
   "metadata": {},
   "source": [
    "## Transpiling the Circuit\n",
    "We transpile the circuit to limit it to the specified basis gates and optimize it while respecting the coupling map (connectivity constraints)."
   ]
  },
  {
   "cell_type": "code",
   "execution_count": 13,
   "id": "197b3ee0-b55d-4875-9c1d-4547b621b06f",
   "metadata": {},
   "outputs": [],
   "source": [
    "# Transpile circuit to limit to specified basis gates and optimize\n",
    "basis_gates = ['x', 'h', 'rz', 'cx']\n",
    "coupling_map = [[4, 0], [4, 1], [4, 2], [4, 3], [0, 1], [2, 3]]  # Include connections according to architecture\n",
    "qc = transpile(qc, basis_gates=basis_gates, optimization_level=3, coupling_map=coupling_map)\n"
   ]
  },
  {
   "cell_type": "markdown",
   "id": "5181b410-e4c5-42cf-a321-87d64af4d003",
   "metadata": {},
   "source": [
    "## Visualizing the Quantum Circuit\n",
    "We can now visualize the quantum circuit to understand the sequence of gates applied."
   ]
  },
  {
   "cell_type": "code",
   "execution_count": 16,
   "id": "09341836-bd1a-4cec-a50f-c4de99100e1c",
   "metadata": {},
   "outputs": [
    {
     "name": "stdout",
     "output_type": "stream",
     "text": [
      "                        ┌───┐                               ┌───┐┌─────────┐\n",
      "q_2 -> 0 ───────────────┤ X ├───────────────────────────────┤ X ├┤ Rz(π/4) ├\n",
      "                   ┌───┐└─┬─┘                     ┌───┐     └─┬─┘└─────────┘\n",
      "q_3 -> 1 ──────────┤ X ├──┼───────────────────────┤ X ├───────┼─────────────\n",
      "              ┌───┐└─┬─┘  │       ┌───┐┌─────────┐└─┬─┘       │             \n",
      "q_1 -> 2 ─────┤ X ├──┼────┼───────┤ X ├┤ Rz(π/8) ├──┼────■────┼─────────────\n",
      "         ┌───┐└─┬─┘  │    │       └─┬─┘└─────────┘  │  ┌─┴─┐  │             \n",
      "q_0 -> 3 ┤ H ├──┼────┼────┼─────────┼───────────────┼──┤ X ├──┼─────────────\n",
      "         └───┘  │    │    │  ┌───┐  │               │  └───┘  │             \n",
      "q_4 -> 4 ───────■────■────■──┤ H ├──■───────────────■─────────■─────────────\n",
      "                             └───┘                                          \n"
     ]
    },
    {
     "data": {
      "image/png": "[encoded data removed]",
      "text/plain": [
       "<Figure size 1092.68x451.5 with 1 Axes>"
      ]
     },
     "execution_count": 16,
     "metadata": {},
     "output_type": "execute_result"
    }
   ],
   "source": [
    "# Print the resulting quantum circuit\n",
    "print(qc)\n",
    "qc.draw(output='mpl')\n"
   ]
  },
  {
   "cell_type": "markdown",
   "id": "8c8c4b32-2c45-4784-a40b-c534745c8021",
   "metadata": {},
   "source": [
    "## Analyzing the Circuit Depth\n",
    "We check the depth of the circuit to ensure it meets the depth constraint."
   ]
  },
  {
   "cell_type": "code",
   "execution_count": 19,
   "id": "d8217072-fc42-406d-9c28-c060fcab0a6f",
   "metadata": {},
   "outputs": [
    {
     "name": "stdout",
     "output_type": "stream",
     "text": [
      "Circuit Depth: 8\n"
     ]
    }
   ],
   "source": [
    "# Print the circuit depth\n",
    "depth = qc.depth()\n",
    "print(\"Circuit Depth:\", depth)\n"
   ]
  },
  {
   "cell_type": "markdown",
   "id": "44424937-9abf-46af-aafb-a7331953aacf",
   "metadata": {},
   "source": [
    "## Validating the Prepared State\n",
    "We compute the state vector resulting from the circuit and compare it to the target state."
   ]
  },
  {
   "cell_type": "code",
   "execution_count": 20,
   "id": "c7b92720-dd52-497b-ac96-ab5729e560f5",
   "metadata": {},
   "outputs": [
    {
     "name": "stdout",
     "output_type": "stream",
     "text": [
      "Resulting Statevector:\n",
      "[0.41573481-0.27778512j 0.        +0.j         0.        +0.j\n",
      " 0.        +0.j         0.        +0.j         0.        +0.j\n",
      " 0.        +0.j         0.        +0.j         0.41573481-0.27778512j\n",
      " 0.        +0.j         0.        +0.j         0.        +0.j\n",
      " 0.        +0.j         0.        +0.j         0.        +0.j\n",
      " 0.        +0.j         0.        +0.j         0.        +0.j\n",
      " 0.        +0.j         0.        +0.j         0.        +0.j\n",
      " 0.        +0.j         0.        +0.j         0.41573481+0.27778512j\n",
      " 0.        +0.j         0.        +0.j         0.        +0.j\n",
      " 0.        +0.j         0.        +0.j         0.        +0.j\n",
      " 0.        +0.j         0.41573481+0.27778512j]\n"
     ]
    }
   ],
   "source": [
    "# Validate statevector (approximation)\n",
    "state = Statevector.from_instruction(qc)\n",
    "print(\"Resulting Statevector:\")\n",
    "print(state.data)  # Check resulting state vector (should approximate desired state)\n"
   ]
  },
  {
   "cell_type": "markdown",
   "id": "594f417d-d97c-4582-82c5-a87825ea4d2e",
   "metadata": {},
   "source": [
    "Visualizing the State\n",
    "Plotting the State on the Bloch Sphere\n",
    "\n",
    "We plot the state vector on the Bloch sphere to visualize the quantum state.\n",
    "\n",
    "Plotting the Probability Histogram\n",
    "\n",
    "We plot the histogram of probabilities for each computational basis state."
   ]
  },
  {
   "cell_type": "code",
   "execution_count": null,
   "id": "259b603e-803d-4ef6-befc-ad9f31fe32a2",
   "metadata": {},
   "outputs": [],
   "source": []
  },
  {
   "cell_type": "code",
   "execution_count": null,
   "id": "d6b62398-5d7c-4352-9277-86518668c3e0",
   "metadata": {},
   "outputs": [],
   "source": [
    "# Plot the state vector on the Bloch sphere\n",
    "plot_bloch_multivector(state)\n",
    "plt.show()\n",
    "# Plot histogram of probabilities\n",
    "counts = state.probabilities_dict()\n",
    "plot_histogram(counts)\n",
    "plt.show()\n"
   ]
  }
 ],
 "metadata": {
  "kernelspec": {
   "display_name": "Python 3 (ipykernel)",
   "language": "python",
   "name": "python3"
  },
  "language_info": {
   "codemirror_mode": {
    "name": "ipython",
    "version": 3
   },
   "file_extension": ".py",
   "mimetype": "text/x-python",
   "name": "python",
   "nbconvert_exporter": "python",
   "pygments_lexer": "ipython3",
   "version": "3.12.3"
  }
 },
 "nbformat": 4,
 "nbformat_minor": 5
}
